{
  "nbformat": 4,
  "nbformat_minor": 0,
  "metadata": {
    "colab": {
      "private_outputs": true,
      "provenance": [],
      "collapsed_sections": [
        "s-syNqfpNEdb",
        "eC3c3U-LJBEG"
      ],
      "gpuType": "T4",
      "authorship_tag": "ABX9TyMQ2Fy0E98hjm+lsCb8gAoT",
      "include_colab_link": true
    },
    "kernelspec": {
      "name": "python3",
      "display_name": "Python 3"
    },
    "language_info": {
      "name": "python"
    },
    "accelerator": "GPU"
  },
  "cells": [
    {
      "cell_type": "markdown",
      "metadata": {
        "id": "view-in-github",
        "colab_type": "text"
      },
      "source": [
        "<a href=\"https://colab.research.google.com/github/Aftabgazali/Linear-Regression-Using-Pytorch/blob/main/Linear_Regression_using_Pytorch.ipynb\" target=\"_parent\"><img src=\"https://colab.research.google.com/assets/colab-badge.svg\" alt=\"Open In Colab\"/></a>"
      ]
    },
    {
      "cell_type": "markdown",
      "source": [
        "# Importing Libraries"
      ],
      "metadata": {
        "id": "LsC52VgJHduT"
      }
    },
    {
      "cell_type": "code",
      "execution_count": null,
      "metadata": {
        "id": "CSPMylsRHSTo"
      },
      "outputs": [],
      "source": [
        "import torch\n",
        "from torch import nn\n",
        "import numpy as np\n",
        "import matplotlib.pyplot as plt\n",
        "import pandas as pd"
      ]
    },
    {
      "cell_type": "markdown",
      "source": [
        "# Setting up the Device Agnostic Code\n",
        "\n",
        "***Note:*** *If using CUDA then below are the default changes you gotta make before the training loop.*\n",
        "\n",
        "`model.to(device)`\n",
        "`X_train = X_train.to(device)`\n",
        "`y_train = y_train.to(device)`\n",
        "`X_test = X_test.to(device)`\n",
        "`y_test = y_test.to(device)`"
      ],
      "metadata": {
        "id": "d6TY4qXIH01k"
      }
    },
    {
      "cell_type": "code",
      "source": [
        "device = \"cuda\" if torch.cuda.is_available() else \"cpu\"\n",
        "print(f\"Colab is running in {device}\")"
      ],
      "metadata": {
        "id": "G2lfOMwcH3hs"
      },
      "execution_count": null,
      "outputs": []
    },
    {
      "cell_type": "markdown",
      "source": [
        "# Importing the Datasets"
      ],
      "metadata": {
        "id": "R-Nu8F9nIBEX"
      }
    },
    {
      "cell_type": "code",
      "source": [
        "from sklearn.datasets import fetch_california_housing\n",
        "house_price_data = fetch_california_housing()"
      ],
      "metadata": {
        "id": "bsl4QGTtJ1n9"
      },
      "execution_count": null,
      "outputs": []
    },
    {
      "cell_type": "code",
      "source": [
        "df = pd.DataFrame(house_price_data.data)\n",
        "df.columns = house_price_data.feature_names\n",
        "print(df)"
      ],
      "metadata": {
        "id": "6VBBp4iXJuQu"
      },
      "execution_count": null,
      "outputs": []
    },
    {
      "cell_type": "code",
      "source": [
        "df['Target'] = house_price_data.target\n",
        "df.head()"
      ],
      "metadata": {
        "id": "ITSVCq3zKJfP"
      },
      "execution_count": null,
      "outputs": []
    },
    {
      "cell_type": "code",
      "source": [
        "# Do it in one go\n",
        "# from sklearn import datasets\n",
        "# diabetes_X, diabetes_y = datasets.fetch_california_housing(return_X_y=True)"
      ],
      "metadata": {
        "id": "Mq0B0ZqKIDbU"
      },
      "execution_count": null,
      "outputs": []
    },
    {
      "cell_type": "code",
      "source": [
        "X = df.iloc[:,:-1].values\n",
        "y = df.iloc[:,-1].values"
      ],
      "metadata": {
        "id": "3Fy4xMVXKr_N"
      },
      "execution_count": null,
      "outputs": []
    },
    {
      "cell_type": "code",
      "source": [
        "type(y)"
      ],
      "metadata": {
        "id": "Y4QlCjjTMLtY"
      },
      "execution_count": null,
      "outputs": []
    },
    {
      "cell_type": "markdown",
      "source": [
        "# Prepare the Data into Tensors"
      ],
      "metadata": {
        "id": "s-syNqfpNEdb"
      }
    },
    {
      "cell_type": "code",
      "source": [
        "X_tensor = torch.from_numpy(X).float()\n",
        "y_tensor = torch.from_numpy(y).float()"
      ],
      "metadata": {
        "id": "6LgD7ph_M99V"
      },
      "execution_count": null,
      "outputs": []
    },
    {
      "cell_type": "code",
      "source": [
        "y_tensor.dtype"
      ],
      "metadata": {
        "id": "ncriXIzgNAMl"
      },
      "execution_count": null,
      "outputs": []
    },
    {
      "cell_type": "markdown",
      "source": [
        "# Splitting the Data into Training & Testing Set"
      ],
      "metadata": {
        "id": "eC3c3U-LJBEG"
      }
    },
    {
      "cell_type": "code",
      "source": [
        "from sklearn.model_selection import train_test_split\n",
        "X_train, X_test, y_train, y_test = train_test_split(X_tensor,y_tensor, test_size=0.33, random_state=42)\n",
        "y_train.dtype"
      ],
      "metadata": {
        "id": "zOOS7dU4IQ2s"
      },
      "execution_count": null,
      "outputs": []
    },
    {
      "cell_type": "markdown",
      "source": [
        "# Model Building\n",
        "\n",
        "***Note:*** *`in_features` is the number of in-dependent features in your datasets & `out_features` in the number of dependent features in your datasets*"
      ],
      "metadata": {
        "id": "q-ZVVB5vLu3g"
      }
    },
    {
      "cell_type": "code",
      "source": [
        "class LinearRegressionModel_V2(nn.Module):\n",
        "  def __init__(self):\n",
        "    super().__init__()\n",
        "    self.linear_layer = nn.Linear(in_features=8, # Creating the Linear Layer applying Linear Transform(Linear Regression: y = wT*x + b)\n",
        "                                  out_features=1) # This is equivalent to creating the weight & bias and assigning them with a random values at start\n",
        "\n",
        "  def forward(self, x: torch.Tensor) -> torch.Tensor:\n",
        "    return self.linear_layer(x) # we then pass the training samples to the linear layer to update the weight & the bias by learning from the training samples.\n",
        "\n",
        "# Set the Manual Seed\n",
        "torch.manual_seed(42)\n",
        "model = LinearRegressionModel_V2()\n",
        "model.state_dict()"
      ],
      "metadata": {
        "id": "fxsgRPflLEUl"
      },
      "execution_count": null,
      "outputs": []
    },
    {
      "cell_type": "markdown",
      "source": [
        "# Training the Model"
      ],
      "metadata": {
        "id": "H0Wu5I0hQ4bD"
      }
    },
    {
      "cell_type": "code",
      "source": [
        "# Assign the Loss function & the Optimizers\n",
        "model_loss = nn.L1Loss() # Mean Squared Error / Cost Function\n",
        "\n",
        "model_optimizer = torch.optim.Adam(params=model.parameters(),lr=0.01)\n"
      ],
      "metadata": {
        "id": "GHD7rAh2Q9Xy"
      },
      "execution_count": null,
      "outputs": []
    },
    {
      "cell_type": "code",
      "source": [
        "# Training Loop\n",
        "# For setting up the Model as well as our Samples to CDU Device\n",
        "model.to(device)\n",
        "epochs = 200\n",
        "X_train = X_train.to(device)\n",
        "y_train = y_train.to(device)\n",
        "X_test = X_test.to(device)\n",
        "y_test = y_test.to(device)\n",
        "for epoch in range(epochs):\n",
        "  # Training Mode:\n",
        "  model.train()\n",
        "\n",
        "  # Train the Model\n",
        "  train_predictions = model(X_train)\n",
        "\n",
        "  # Training Loss\n",
        "  training_loss = model_loss(train_predictions, y_train)\n",
        "\n",
        "  # Set the grad to zero\n",
        "  model_optimizer.zero_grad()\n",
        "\n",
        "  # Backpropagation:\n",
        "  training_loss.backward()\n",
        "\n",
        "  # Progress/step the optimizer (to go to the global minima) # Update the model parameters value to better represent the b.f.\n",
        "  model_optimizer.step()\n",
        "\n",
        "  # Testing Mode:\n",
        "  model.eval()\n",
        "  with torch.inference_mode():\n",
        "    testing_predictions = model(X_test)\n",
        "    testing_loss = model_loss(testing_predictions,y_test)\n",
        "    if epoch % 10 == 0:\n",
        "      print(f\"Epoch {epoch} | Training Loss {training_loss} | Testing Loss {testing_loss}\")\n"
      ],
      "metadata": {
        "id": "kQMhdXU2PkIA"
      },
      "execution_count": null,
      "outputs": []
    },
    {
      "cell_type": "markdown",
      "source": [
        "# Testing the Model Predictions"
      ],
      "metadata": {
        "id": "F4MJw_MdWGpJ"
      }
    },
    {
      "cell_type": "code",
      "source": [
        "model.eval()\n",
        "with torch.inference_mode():\n",
        "  y_predictions = model(X_test)\n",
        "\n",
        "len(y_predictions)"
      ],
      "metadata": {
        "id": "00JxF8akS1Ax"
      },
      "execution_count": null,
      "outputs": []
    },
    {
      "cell_type": "code",
      "source": [
        "epochs = np.arange(1,6813,1)\n",
        "len(epochs)"
      ],
      "metadata": {
        "id": "pomH0ep7XcVw"
      },
      "execution_count": null,
      "outputs": []
    },
    {
      "cell_type": "code",
      "source": [
        "def plot_predictions(train_labels=y_test,predicted_labels=y_predictions,epochs=epochs):\n",
        "  plt.figure(figsize=(15,12))\n",
        "  plt.plot(epochs[::50],train_labels[::50].cpu(),c=\"b\",label=\"Training Test Set\")\n",
        "  plt.plot(epochs[::50],predicted_labels[::50].cpu(),c=\"g\",label=\"Predicted Test Set\")\n",
        "  plt.legend()\n",
        "  plt.show()\n",
        "\n",
        "plot_predictions(y_test,y_predictions,epochs)"
      ],
      "metadata": {
        "id": "A0uvXU7BWWCO"
      },
      "execution_count": null,
      "outputs": []
    },
    {
      "cell_type": "markdown",
      "source": [
        "# Save the Model"
      ],
      "metadata": {
        "id": "C3W7Jdzke9nQ"
      }
    },
    {
      "cell_type": "code",
      "source": [
        "import os\n",
        "\n",
        "MODEL_PATH = \"model\"\n",
        "if not os.path.exists(MODEL_PATH):\n",
        "    os.mkdir(MODEL_PATH)\n",
        "\n",
        "MODEL_NAME = \"linear_regression_model_v2.pth\"\n",
        "MODEL_SAVE_PATH = os.path.join(MODEL_PATH, MODEL_NAME)\n",
        "\n",
        "print(f\"Saving the V2 version of the Model to {MODEL_SAVE_PATH}\")\n",
        "torch.save(obj=model.state_dict(),f=MODEL_SAVE_PATH)"
      ],
      "metadata": {
        "id": "pqvoUJ9De_UD"
      },
      "execution_count": null,
      "outputs": []
    },
    {
      "cell_type": "code",
      "source": [],
      "metadata": {
        "id": "ECyz79VpfIxM"
      },
      "execution_count": null,
      "outputs": []
    }
  ]
}